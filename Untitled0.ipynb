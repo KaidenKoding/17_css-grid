{
  "nbformat": 4,
  "nbformat_minor": 0,
  "metadata": {
    "colab": {
      "provenance": [],
      "authorship_tag": "ABX9TyPpwIKeOkzSWC0pLTD2KTGy",
      "include_colab_link": true
    },
    "kernelspec": {
      "name": "python3",
      "display_name": "Python 3"
    },
    "language_info": {
      "name": "python"
    }
  },
  "cells": [
    {
      "cell_type": "markdown",
      "metadata": {
        "id": "view-in-github",
        "colab_type": "text"
      },
      "source": [
        "<a href=\"https://colab.research.google.com/github/KaidenKoding/17_css-grid/blob/main/Untitled0.ipynb\" target=\"_parent\"><img src=\"https://colab.research.google.com/assets/colab-badge.svg\" alt=\"Open In Colab\"/></a>"
      ]
    },
    {
      "cell_type": "code",
      "execution_count": null,
      "metadata": {
        "id": "mjnsbR_y3Jq9"
      },
      "outputs": [],
      "source": [
        "str_numbers = \"456\"\n",
        "str_numbers_to_int = int(str_numbers)\n",
        "print (\"Before casting :\", str_numbers, \", the data type is\", type(str_numbers))\n",
        "print(\"After casting :\", str_numbers_to_int, \", the data type is\", type(str_numbers_to_int))"
      ]
    },
    {
      "cell_type": "code",
      "source": [
        "integer = 12345\n",
        "integer_to_str = str(integer)\n",
        "print(\"Before casting :\", integer, \", the data type is\", type(integer))\n",
        "print(\"After casting :\", integer_to_str, \", the data type is\",\n",
        "type(integer_to_str))"
      ],
      "metadata": {
        "id": "CpTOSYi_3PNc"
      },
      "execution_count": null,
      "outputs": []
    },
    {
      "cell_type": "code",
      "source": [
        "num_int = 1\n",
        "num_bool = bool(num_int)\n",
        "print(num_bool, type(num_bool))\n",
        "num_int = 0\n",
        "num_bool = bool(num_int)\n",
        "print(num_bool, type(num_bool))"
      ],
      "metadata": {
        "id": "G77hmry13Qj7"
      },
      "execution_count": null,
      "outputs": []
    },
    {
      "cell_type": "code",
      "source": [
        "# Equal to\n",
        "8 == 8\n",
        "# Not equal to\n",
        "8 != 9\n",
        "# Greater than\n",
        "8 > 9\n",
        "# Less than\n",
        "8 < 9\n",
        "# Less than\n",
        "8 <= 9\n",
        "# Less than\n",
        "9 >= 9"
      ],
      "metadata": {
        "id": "19ituTTn3SAQ"
      },
      "execution_count": null,
      "outputs": []
    },
    {
      "cell_type": "code",
      "source": [
        "a = True\n",
        "b = True\n",
        "print(a and b)\n",
        "print(a or b)\n",
        "print(not b)\n",
        "#logic\n",
        "5 > 6 and 6 < 7"
      ],
      "metadata": {
        "id": "Hhg895HP3UF3"
      },
      "execution_count": null,
      "outputs": []
    },
    {
      "cell_type": "code",
      "source": [
        "e = 8\n",
        "f = 2\n",
        "# Summation\n",
        "sum = e + f\n",
        "print(f\"The sum of e with f is : {sum}\\n\")\n",
        "# Reduction\n",
        "red = e - f\n",
        "print(f\"The reduction of e with f is : {red}\\n\")\n",
        "# Multiplication\n",
        "multi = e * f\n",
        "print(f\"The multipication of e with f is : {multi}\\n\")\n",
        "# Division\n",
        "divi = e / f\n",
        "print(f\"The quotient of e with f is : {divi}\\n\")\n",
        "# Modulo\n",
        "mod = e % f\n",
        "print(f\"The remainder of e with f is : {mod}\\n\")\n",
        "# Power\n",
        "pow = e ** f\n",
        "print(f\"The power of e of f is : {pow}\\n\")"
      ],
      "metadata": {
        "id": "ZMtm-Xys3Vjn"
      },
      "execution_count": null,
      "outputs": []
    },
    {
      "cell_type": "code",
      "source": [
        "name = str(input(\"What is your name : \"))\n",
        "age = int(input(\"What's your age : \"))\n",
        "print(\"Name: \", name)\n",
        "print(\"Age: \", age)"
      ],
      "metadata": {
        "id": "IwZhQjYt3XWW"
      },
      "execution_count": null,
      "outputs": []
    },
    {
      "cell_type": "code",
      "source": [
        "# normal print\n",
        "print('Hi all! I am', name, 'age', age, 'years old')\n",
        "\n",
        "# format print\n",
        "print(f'Hi all! I am {name} age {age} years old')\n",
        "\n",
        "# format print\n",
        "print(f'Hi all! I am %s age %d years old'%(name, age))\n",
        "# fortmat output\n",
        "print(30*\"=\")\n",
        "print(\"Temperature Calculator Program\")\n",
        "print(30*\"=\")"
      ],
      "metadata": {
        "id": "m_RgeTPN3ZK2"
      },
      "execution_count": null,
      "outputs": []
    },
    {
      "cell_type": "code",
      "source": [
        "try:\n",
        "   your_GPA = float(input(\"Enter your GPA: \"))\n",
        "    if 4.0 >= your_GPA >= 0.0:\n",
        "     if 4.0 >= your_GPA >= 3.80:\n",
        "      print(f\"Damn you've got a magna cumlaude with your {your_GPA}\n",
        "      GPA\")\n",
        "       elif 3.50 <= your_GPA < 3.80:\n",
        "        print(f\"Cool!! You've got a cumlaude with your {your_GPA} GPA\")\n",
        "         elif 3.00 <= your_GPA < 3.50:\n",
        "          print(f\"You've got a stable GPA tho\")\n",
        "           elif your_GPA < 3.0:\n",
        "            print(f\"You need a stable GPA\")\n",
        "             else:\n",
        "              print(f\"Sorry, your GPA {your_GPA} is out of range and invalid\")\n",
        "              except:\n",
        "               print(\"Please enter a valid GPA\")"
      ],
      "metadata": {
        "id": "qnDHOcKc3cjM"
      },
      "execution_count": null,
      "outputs": []
    },
    {
      "cell_type": "code",
      "source": [
        "try:\n",
        "   status_code = int(input(\"Enter your status code: \"))\n",
        "    print(\"Your code means\")\n",
        "     match status_code:\n",
        "      case 200:\n",
        "       print(\"Success!\")\n",
        "        case 400:\n",
        "         print(\"Bad Request\")\n",
        "          case 401:\n",
        "           print(\"Unauthorized\")\n",
        "            case 402:\n",
        "             print(\"Payment Required\")\n",
        "              case 403:\n",
        "               print(\"Forbidden\")\n",
        "                case 404:\n",
        "                 print(\"Not Found\")\n",
        "                  case 500:\n",
        "                   print(\"Internal Server Error\")\n",
        "                   except :\n",
        "                    print(\"Please enter a valid status code\")"
      ],
      "metadata": {
        "id": "EPjsJ4ib3dX0"
      },
      "execution_count": null,
      "outputs": []
    },
    {
      "cell_type": "code",
      "source": [
        "a = 3\n",
        "b = \"Even Numbers\" if a % 2 == 0 else \"Odd Numbers\"\n",
        "print(b)"
      ],
      "metadata": {
        "id": "HF9e7A4W3fpM"
      },
      "execution_count": null,
      "outputs": []
    },
    {
      "cell_type": "code",
      "source": [
        "for i in range(5):\n",
        "   print(i)\n",
        "   0\n",
        "   1\n",
        "   2\n",
        "   3\n",
        "   4\n",
        "   # For loop with range\n",
        "   for i in range(5):\n",
        "    print(\"Data science is easy!\")\n",
        "    print(50*\"=\")\n",
        "    for i in range(1, 5, 2):\n",
        "     print(\"Data science is easy!\")"
      ],
      "metadata": {
        "id": "Pijk5EL43hgg"
      },
      "execution_count": null,
      "outputs": []
    },
    {
      "cell_type": "code",
      "source": [
        "word = \"I want to master data science\"\n",
        "for letter in word:\n",
        " print(letter)"
      ],
      "metadata": {
        "id": "kFZzo9lb3iY5"
      },
      "execution_count": null,
      "outputs": []
    },
    {
      "cell_type": "code",
      "source": [
        "for m, n in enumerate(word):\n",
        "   print(f\"Index {m}. {n}\")"
      ],
      "metadata": {
        "id": "fkgTQ8QI3kk6"
      },
      "execution_count": null,
      "outputs": []
    },
    {
      "cell_type": "code",
      "source": [
        "for i in range(5,1,-1):\n",
        "   print(\"I want big data's\")"
      ],
      "metadata": {
        "id": "WpBDKkt63kiJ"
      },
      "execution_count": null,
      "outputs": []
    },
    {
      "cell_type": "code",
      "source": [
        "for i in range(5):\n",
        "   if i == 2:\n",
        "    continue # skip theis loop when i is equal to 2\n",
        "     if i == 4:\n",
        "      break # stops the loop when i is equal to 4\n",
        "       print(i)"
      ],
      "metadata": {
        "id": "-4pSAlhG3nrw"
      },
      "execution_count": null,
      "outputs": []
    },
    {
      "cell_type": "code",
      "source": [
        "count = 0\n",
        "while count < 4:\n",
        " print(\"Keep the spirits up interns!\")\n",
        "  count += 1"
      ],
      "metadata": {
        "id": "6Z3aCelh3pzR"
      },
      "execution_count": null,
      "outputs": []
    }
  ]
}